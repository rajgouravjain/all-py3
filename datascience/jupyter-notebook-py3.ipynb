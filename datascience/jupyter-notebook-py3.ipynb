{
 "cells": [
  {
   "cell_type": "markdown",
   "metadata": {},
   "source": [
    "# Python 3 supports following packages\n",
    "\n",
    "* numpy\n",
    "* pandas\n",
    "* matplotlib\n",
    "* scipy\n",
    "* sklearn\n",
    "* tensorflow\n",
    "* nltk\n",
    "\n",
    "Python 3 kernel resides in conda env  ipykernel_py3\n",
    "Thus if you need to install a package for python3  you should activate ipykernel_py3 env first.\n",
    "i.e. \n",
    "source activate ipykernel_py3\n",
    "and \n",
    "pip install nltk\n"
   ]
  },
  {
   "cell_type": "code",
   "execution_count": 6,
   "metadata": {},
   "outputs": [],
   "source": [
    "import numpy as np\n",
    "import pandas as pd\n",
    "import matplotlib.pyplot as plt\n",
    "\n",
    "import tensorflow\n",
    "\n",
    "\n",
    "from sklearn import datasets\n",
    "\n",
    "##Classification\n",
    "from sklearn.metrics import accuracy_score\n",
    "from sklearn.model_selection import train_test_split\n",
    "from sklearn.tree import DecisionTreeClassifier\n",
    "\n",
    "##Clustering\n",
    "from sklearn.preprocessing import StandardScaler\n",
    "from sklearn.cluster import KMeans \n",
    "#import utils\n",
    "from itertools import cycle, islice\n",
    "#from pandas.tools.plotting import parallel_coordinates\n",
    "\n",
    "##Linear Regression\n",
    "import sqlite3\n",
    "from sklearn.tree import DecisionTreeRegressor\n",
    "from sklearn.linear_model import LinearRegression\n",
    "from sklearn.metrics import mean_squared_error\n",
    "from math import sqrt\n",
    "\n",
    "import nltk\n",
    "from nltk.classify import NaiveBayesClassifier"
   ]
  },
  {
   "cell_type": "code",
   "execution_count": 3,
   "metadata": {},
   "outputs": [
    {
     "name": "stdout",
     "output_type": "stream",
     "text": [
      "Collecting package metadata: done\n",
      "Solving environment: done\n",
      "\n",
      "\n",
      "==> WARNING: A newer version of conda exists. <==\n",
      "  current version: 4.6.8\n",
      "  latest version: 4.6.14\n",
      "\n",
      "Please update conda by running\n",
      "\n",
      "    $ conda update -n base -c defaults conda\n",
      "\n",
      "\n",
      "\n",
      "## Package Plan ##\n",
      "\n",
      "  environment location: /home/pahal/anaconda3/envs/datasciencepy37\n",
      "\n",
      "  added / updated specs:\n",
      "    - tensorflow\n",
      "\n",
      "\n",
      "The following packages will be downloaded:\n",
      "\n",
      "    package                    |            build\n",
      "    ---------------------------|-----------------\n",
      "    absl-py-0.7.0              |           py37_0         157 KB\n",
      "    astor-0.7.1                |           py37_0          43 KB\n",
      "    c-ares-1.15.0              |       h7b6447c_1          98 KB\n",
      "    gast-0.2.2                 |           py37_0         137 KB\n",
      "    libprotobuf-3.6.1          |       hd408876_0         4.1 MB\n",
      "    pbr-5.1.3                  |             py_0          74 KB\n",
      "    protobuf-3.6.1             |   py37he6710b0_0         615 KB\n",
      "    tensorboard-1.13.1         |   py37hf484d3e_0         3.3 MB\n",
      "    tensorflow-estimator-1.13.0|             py_0         205 KB\n",
      "    ------------------------------------------------------------\n",
      "                                           Total:         8.6 MB\n",
      "\n",
      "The following NEW packages will be INSTALLED:\n",
      "\n",
      "  _tflow_select      pkgs/main/linux-64::_tflow_select-2.3.0-mkl\n",
      "  absl-py            pkgs/main/linux-64::absl-py-0.7.0-py37_0\n",
      "  astor              pkgs/main/linux-64::astor-0.7.1-py37_0\n",
      "  c-ares             pkgs/main/linux-64::c-ares-1.15.0-h7b6447c_1\n",
      "  gast               pkgs/main/linux-64::gast-0.2.2-py37_0\n",
      "  grpcio             pkgs/main/linux-64::grpcio-1.16.1-py37hf8bcb03_1\n",
      "  keras-applications pkgs/main/noarch::keras-applications-1.0.7-py_0\n",
      "  keras-preprocessi~ pkgs/main/noarch::keras-preprocessing-1.0.9-py_0\n",
      "  libprotobuf        pkgs/main/linux-64::libprotobuf-3.6.1-hd408876_0\n",
      "  markdown           pkgs/main/linux-64::markdown-3.0.1-py37_0\n",
      "  mock               pkgs/main/linux-64::mock-2.0.0-py37_0\n",
      "  pbr                pkgs/main/noarch::pbr-5.1.3-py_0\n",
      "  protobuf           pkgs/main/linux-64::protobuf-3.6.1-py37he6710b0_0\n",
      "  tensorboard        pkgs/main/linux-64::tensorboard-1.13.1-py37hf484d3e_0\n",
      "  tensorflow         pkgs/main/linux-64::tensorflow-1.13.1-mkl_py37h54b294f_0\n",
      "  tensorflow-base    pkgs/main/linux-64::tensorflow-base-1.13.1-mkl_py37h7ce6ba3_0\n",
      "  tensorflow-estima~ pkgs/main/noarch::tensorflow-estimator-1.13.0-py_0\n",
      "  termcolor          pkgs/main/linux-64::termcolor-1.1.0-py37_1\n",
      "\n",
      "\n",
      "\n",
      "Downloading and Extracting Packages\n",
      "tensorboard-1.13.1   | 3.3 MB    | ##################################### | 100% \n",
      "pbr-5.1.3            | 74 KB     | ##################################### | 100% \n",
      "protobuf-3.6.1       | 615 KB    | ##################################### | 100% \n",
      "tensorflow-estimator | 205 KB    | ##################################### | 100% \n",
      "gast-0.2.2           | 137 KB    | ##################################### | 100% \n",
      "astor-0.7.1          | 43 KB     | ##################################### | 100% \n",
      "libprotobuf-3.6.1    | 4.1 MB    | ##################################### | 100% \n",
      "c-ares-1.15.0        | 98 KB     | ##################################### | 100% \n",
      "absl-py-0.7.0        | 157 KB    | ##################################### | 100% \n",
      "Preparing transaction: done\n",
      "Verifying transaction: done\n",
      "Executing transaction: done\n"
     ]
    }
   ],
   "source": [
    "!conda install tensorflow -y"
   ]
  },
  {
   "cell_type": "code",
   "execution_count": 4,
   "metadata": {},
   "outputs": [
    {
     "name": "stdout",
     "output_type": "stream",
     "text": [
      "3.7.1 (default, Dec 14 2018, 19:28:38) \n",
      "[GCC 7.3.0]\n",
      "sys.version_info(major=3, minor=7, micro=1, releaselevel='final', serial=0)\n",
      "['/home/pahal/codehub/all-py3/datascience', '/home/pahal/anaconda3/envs/datasciencepy37/lib/python37.zip', '/home/pahal/anaconda3/envs/datasciencepy37/lib/python3.7', '/home/pahal/anaconda3/envs/datasciencepy37/lib/python3.7/lib-dynload', '', '/home/pahal/anaconda3/envs/datasciencepy37/lib/python3.7/site-packages', '/home/pahal/anaconda3/envs/datasciencepy37/lib/python3.7/site-packages/IPython/extensions', '/home/pahal/.ipython']\n"
     ]
    }
   ],
   "source": [
    "import sys\n",
    "print(sys.version)\n",
    "print(sys.version_info)\n",
    "print(sys.path)"
   ]
  },
  {
   "cell_type": "code",
   "execution_count": null,
   "metadata": {},
   "outputs": [],
   "source": []
  }
 ],
 "metadata": {
  "kernelspec": {
   "display_name": "Python 3",
   "language": "python",
   "name": "python3"
  },
  "language_info": {
   "codemirror_mode": {
    "name": "ipython",
    "version": 3
   },
   "file_extension": ".py",
   "mimetype": "text/x-python",
   "name": "python",
   "nbconvert_exporter": "python",
   "pygments_lexer": "ipython3",
   "version": "3.7.1"
  }
 },
 "nbformat": 4,
 "nbformat_minor": 2
}
