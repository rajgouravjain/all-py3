{
 "cells": [
  {
   "cell_type": "code",
   "execution_count": 38,
   "metadata": {},
   "outputs": [],
   "source": [
    "import pandas as pd\n",
    "import numpy as np\n",
    "\n"
   ]
  },
  {
   "cell_type": "markdown",
   "metadata": {},
   "source": [
    "# Different ways to create Pandas Series "
   ]
  },
  {
   "cell_type": "markdown",
   "metadata": {},
   "source": [
    "## Method 1 :: using list"
   ]
  },
  {
   "cell_type": "code",
   "execution_count": 80,
   "metadata": {},
   "outputs": [
    {
     "name": "stdout",
     "output_type": "stream",
     "text": [
      "a    1\n",
      "b    2\n",
      "c    3\n",
      "d    4\n",
      "dtype: int64\n"
     ]
    }
   ],
   "source": [
    "arr = [1,2,3,4]\n",
    "\n",
    "pd_series1  =  pd.Series(data=arr,index=['a','b','c','d'])\n",
    "print(pd_series1)"
   ]
  },
  {
   "cell_type": "markdown",
   "metadata": {},
   "source": [
    "## Mehod 2 :: using numpy array"
   ]
  },
  {
   "cell_type": "code",
   "execution_count": 81,
   "metadata": {},
   "outputs": [
    {
     "name": "stdout",
     "output_type": "stream",
     "text": [
      "a   -0.462851\n",
      "b    0.239248\n",
      "c    0.853225\n",
      "d   -3.011092\n",
      "dtype: float64\n"
     ]
    }
   ],
   "source": [
    "narr = np.random.randn(4)\n",
    "pd_series2 = pd.Series(data=narr,index=['a','b','c','d'])\n",
    "print(pd_series2)"
   ]
  },
  {
   "cell_type": "markdown",
   "metadata": {},
   "source": [
    "# Different ways to create Pandas DataFrame"
   ]
  },
  {
   "cell_type": "markdown",
   "metadata": {},
   "source": [
    "## Using pandas series without index :: type 1"
   ]
  },
  {
   "cell_type": "code",
   "execution_count": 82,
   "metadata": {},
   "outputs": [
    {
     "name": "stdout",
     "output_type": "stream",
     "text": [
      "       s1        s2 s3\n",
      "0   mango  0.161326  1\n",
      "1   apple  0.637516  2\n",
      "2  banana  0.742585  3\n",
      "3  orange  0.508685  4\n"
     ]
    }
   ],
   "source": [
    "s1 = pd.Series([\"mango\", \"apple\",\"banana\",\"orange\"])\n",
    "s2 = pd.Series(np.random.rand(4))\n",
    "\n",
    "l3 = [1,2,3,4]\n",
    "s3 = pd.Series(l3)\n",
    "\n",
    "df1 = pd.DataFrame(data=[s1,s2,s3], index=[\"s1\", \"s2\", \"s3\"]).transpose()\n",
    "print(df1)\n",
    "\n",
    "\n",
    "## Method 7\n",
    "##Using CSV\n",
    "\n",
    "# Method 8\n",
    "#Using Excel"
   ]
  },
  {
   "cell_type": "markdown",
   "metadata": {},
   "source": [
    "## Using pandas series with index :: type 2"
   ]
  },
  {
   "cell_type": "code",
   "execution_count": 50,
   "metadata": {},
   "outputs": [
    {
     "name": "stdout",
     "output_type": "stream",
     "text": [
      "     A    B\n",
      "a  1.0  3.0\n",
      "b  2.0  NaN\n",
      "c  3.0  4.0\n",
      "d  NaN  6.0\n",
      "     A    B\n",
      "a  1.0  3.0\n",
      "b  2.0  NaN\n",
      "c  3.0  4.0\n",
      "d  NaN  6.0\n"
     ]
    }
   ],
   "source": [
    "list_of_pdseries = [pd.Series(data=[1,2,3],index=['a','b','c']), pd.Series(data=[3,4,6],index=['a','c','d'])]\n",
    "df6 = pd.concat(list_of_pdseries, keys=['A','B'],axis=1,sort=False)\n",
    "print(df6)\n",
    "print(df6.loc[[\"a\",\"b\",\"c\",\"d\"]])"
   ]
  },
  {
   "cell_type": "markdown",
   "metadata": {},
   "source": [
    "## Using numpy ndarray"
   ]
  },
  {
   "cell_type": "code",
   "execution_count": 76,
   "metadata": {},
   "outputs": [
    {
     "name": "stdout",
     "output_type": "stream",
     "text": [
      "         c1        c2        c3        c4        c5\n",
      "a  0.908598  0.974482  0.451053  0.887540  0.778033\n",
      "b  0.342386  0.820829  0.941091  0.681952  0.168626\n",
      "c  0.488020  0.273250  0.018034  0.480160  0.256109\n"
     ]
    }
   ],
   "source": [
    "\n",
    "df1 = pd.DataFrame(data=np.random.rand(3,5),index=['a','b','c'],columns= [\"c1\",\"c2\",\"c3\",\"c4\",\"c5\"])\n",
    "print(df1)"
   ]
  },
  {
   "cell_type": "markdown",
   "metadata": {},
   "source": [
    "## Using dictionary of lists combination (Most frequently used ) \n"
   ]
  },
  {
   "cell_type": "code",
   "execution_count": 77,
   "metadata": {},
   "outputs": [
    {
     "name": "stdout",
     "output_type": "stream",
     "text": [
      "   C1  C2\n",
      "0   0   5\n",
      "1   1   6\n",
      "2   2   7\n",
      "3   3   8\n",
      "4   4   9\n",
      "5   5  10\n",
      "6   6  11\n",
      "7   7  12\n",
      "8   8  13\n",
      "9   9  14\n"
     ]
    }
   ],
   "source": [
    "df3 = pd.DataFrame(data={\"C1\": range(10), \"C2\" : range(5,15) })\n",
    "print(df3)"
   ]
  },
  {
   "cell_type": "markdown",
   "metadata": {},
   "source": [
    "## Using list of Dictionaries (another most frequent one)\n"
   ]
  },
  {
   "cell_type": "code",
   "execution_count": 78,
   "metadata": {},
   "outputs": [
    {
     "name": "stdout",
     "output_type": "stream",
     "text": [
      "   Event  Temprature\n",
      "0  Rainy          29\n",
      "1   Snow          25\n",
      "2  Sunny          32\n"
     ]
    }
   ],
   "source": [
    "whether_data = [{\"Event\": \"Rainy\", \"Temprature\": 29},{\"Event\": \"Snow\", \"Temprature\": 25}, {\"Event\": \"Sunny\", \"Temprature\": 32}]\n",
    "df5 = pd.DataFrame(data=whether_data)\n",
    "print(df5)"
   ]
  },
  {
   "cell_type": "markdown",
   "metadata": {},
   "source": [
    "## Using tuple ,  equivalent of dict+list\n",
    " "
   ]
  },
  {
   "cell_type": "code",
   "execution_count": 79,
   "metadata": {},
   "outputs": [
    {
     "name": "stdout",
     "output_type": "stream",
     "text": [
      "   Event  Temprature\n",
      "0  Rainy          32\n",
      "1   Snow          26\n",
      "2  Windy          28\n"
     ]
    }
   ],
   "source": [
    "whether_data = [(\"Rainy\",32),(\"Snow\",26),(\"Windy\",28)]\n",
    "df4 = pd.DataFrame(data=whether_data, columns=[\"Event\", \"Temprature\"])\n",
    "print(df4)"
   ]
  },
  {
   "cell_type": "code",
   "execution_count": null,
   "metadata": {},
   "outputs": [],
   "source": []
  }
 ],
 "metadata": {
  "kernelspec": {
   "display_name": "Python 3",
   "language": "python",
   "name": "python3"
  },
  "language_info": {
   "codemirror_mode": {
    "name": "ipython",
    "version": 3
   },
   "file_extension": ".py",
   "mimetype": "text/x-python",
   "name": "python",
   "nbconvert_exporter": "python",
   "pygments_lexer": "ipython3",
   "version": "3.7.1"
  }
 },
 "nbformat": 4,
 "nbformat_minor": 2
}
